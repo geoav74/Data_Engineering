{
  "nbformat": 4,
  "nbformat_minor": 0,
  "metadata": {
    "colab": {
      "provenance": []
    },
    "kernelspec": {
      "name": "python3",
      "display_name": "Python 3"
    },
    "language_info": {
      "name": "python"
    }
  },
  "cells": [
    {
      "cell_type": "markdown",
      "source": [
        "#<font color='red'>**ETL (Extract-Transform-Load) Process**\n",
        "\n",
        "---\n",
        "\n",
        "## **Objective**\n",
        "To design and implement an ETL process.<br><br>\n",
        "\n",
        "## **Scenario**\n",
        "Working at a financial company in Great Britain as Data Engineer, there's an interest about the market cap of international banks. As a request from the Analytics Dept, the deliverable should be in .csv file format for further analysis.<br><br>\n",
        "\n",
        "## **The Mission** (the who, what, when, where and why)\n",
        "The `Data Engineering Dept` has to `deliver` a .csv file containing the `'market cap of international banks'` by a given `time span` to the `Analytics Dept` for `further analysis` as part of the decision-making process of the company.<br><br>\n",
        "\n",
        "## **The Execution** (how to)\n",
        "* ### **Concept**\n",
        "The Data Engineering Dept will look for appropriate open sources to acquire the 'market cap of international banks', download the data, implement an ETL process and deliver the required data as a .csv file.\n",
        "* ### **Tasks**\n",
        "  1. **Find the desired resources.**<br>\n",
        "  We found 2 open-source resources `bank_market_cap_1.json` and `bank_market_cap_2.json` via the www. After reviewing them, we will realise that the *'market cap'* of the banks are in USD. Since we reside in Great Britain we need the exchange rate to GBP. As before, we found via www the exchange rates in the file `exchange_rates.csv`.\n",
        "  2. **Acquire the relevant data.**<br>\n",
        "  To acquire the data we've found we'll use the `wget` with `!`-excamation mark preceeding the wget command (so we can run terminal linux commands in the notebook). Optionally we can use the `-q` and `--show-progress` flags provided by the wget command to download them without 'verbose' and show only the 'progress bar' respectively.\n",
        "  3. **Design an ETL process:**<br>\n",
        "  Knowing the file formats we're going to use along with the repository they reside (in our case the current folder), we need to import appropriate libraries to work with and to define what the ETL process will do and how it is going to it. Having said that, the following steps are going to take place:\n",
        "    * **Extract**<br>\n",
        "     First of all, we need to extract the data we downloaded. For that reason we'll create the `extract()` function which it will run the overall extraction process. Since the pandas dataframe is an easy way to handle such files we'll need to import the `pandas` library along with the `glob` library for directory handling. The function will create a dataframe with specific column naming. Then, we'll read each .json file as a dataframe and put it in a list. Lastly, we'll concatenate the 2 dataframes from our list. Appart from that we need to extract the exchange rate to GBP from the .csv file we downloaded.\n",
        "    * **Tranform**<br>\n",
        "      For the tranform process, we'll create a function `transform(...)` which is responsible to take the extracted data as a parameter, change the data from the column 'market cap' from USD to GBP rounding to 3 decimal digits. Also, we'll rename this column from USD to GBP for consinstency.\n",
        "    * **Load**<br>\n",
        "      In this step we're going to create a function `load(...)` which will take the transformed data from the previous step and load it as a .csv file.\n",
        "  4. **Monitor the process**<br>\n",
        "      To monitor our ETL process we're going to create a logging function `log(...)` which will take a message as a parameter (the message will be the status of each task), create a timestamp and create a .txt file. This file it's not requested, though it's convinient for us to keep track of the process. So, we need to import another library to help us with the timestamp which is the `datetime` library.\n",
        "  \n"
      ],
      "metadata": {
        "id": "Y1uUY5Ve-LCh"
      }
    },
    {
      "cell_type": "markdown",
      "source": [
        "<a name=\"li\"></a>\n",
        "# Libraries  \n"
      ],
      "metadata": {
        "id": "lw7lbk7FCSm6"
      }
    },
    {
      "cell_type": "code",
      "execution_count": 1,
      "metadata": {
        "id": "I7Hjjnwwlq1z"
      },
      "outputs": [],
      "source": [
        "import glob  #file handling\n",
        "import pandas as pd  #dataframe usage\n",
        "from datetime import datetime #datetime formating for the log file"
      ]
    },
    {
      "cell_type": "markdown",
      "source": [
        "<a name=\"dldt\"></a>\n",
        "# Data Acquisition\n"
      ],
      "metadata": {
        "id": "rhvCA28paHZi"
      }
    },
    {
      "cell_type": "markdown",
      "source": [
        "The data we're going to download are not current/updated and they're used for demonstration purposes only."
      ],
      "metadata": {
        "id": "Rk98haReWozk"
      }
    },
    {
      "cell_type": "code",
      "source": [
        "!wget -q https://cf-courses-data.s3.us.cloud-object-storage.appdomain.cloud/IBMDeveloperSkillsNetwork-PY0221EN-SkillsNetwork/labs/module%206/Lab%20-%20Extract%20Transform%20Load/data/bank_market_cap_1.json --show-progress\n",
        "!wget -q https://cf-courses-data.s3.us.cloud-object-storage.appdomain.cloud/IBMDeveloperSkillsNetwork-PY0221EN-SkillsNetwork/labs/module%206/Lab%20-%20Extract%20Transform%20Load/data/bank_market_cap_2.json --show-progress\n",
        "!wget -q https://cf-courses-data.s3.us.cloud-object-storage.appdomain.cloud/IBMDeveloperSkillsNetwork-PY0221EN-SkillsNetwork/labs/module%206/Final%20Assignment/exchange_rates.csv --show-progress"
      ],
      "metadata": {
        "colab": {
          "base_uri": "https://localhost:8080/"
        },
        "id": "gE_B_AA6HPso",
        "outputId": "31fae26e-9f4e-42c0-d2ea-54358f83c795"
      },
      "execution_count": 2,
      "outputs": [
        {
          "output_type": "stream",
          "name": "stdout",
          "text": [
            "bank_market_cap_1.j 100%[===================>]   2.75K  --.-KB/s    in 0s      \n",
            "bank_market_cap_2.j 100%[===================>]   1.40K  --.-KB/s    in 0s      \n",
            "exchange_rates.csv  100%[===================>]     590  --.-KB/s    in 0s      \n"
          ]
        }
      ]
    },
    {
      "cell_type": "markdown",
      "source": [
        "<a name=\"expr\"></a>\n",
        "# Extraction Process"
      ],
      "metadata": {
        "id": "RYRcFZIQM0J2"
      }
    },
    {
      "cell_type": "markdown",
      "source": [
        "This function will `extract .json files` and return them as dataframes."
      ],
      "metadata": {
        "id": "L0gtOfRJdAn4"
      }
    },
    {
      "cell_type": "code",
      "source": [
        "def extract_from_json(file_to_process):\n",
        "  dataframe = pd.read_json(file_to_process, orient='columns')\n",
        "  return dataframe"
      ],
      "metadata": {
        "id": "qP6DwhS-Hrsh"
      },
      "execution_count": 3,
      "outputs": []
    },
    {
      "cell_type": "markdown",
      "source": [
        "Defining the `extract function` that finds the .json files bank_market_cap_1.json and bank_market_cap_2.json then calls the function created above to extract the data from them. Finally, we store the data in dataframe using specific columns names."
      ],
      "metadata": {
        "id": "Rgwxdf_RdUpL"
      }
    },
    {
      "cell_type": "code",
      "source": [
        "def extract():\n",
        "  columns=['Name','Market Cap (US$ Billion)']\n",
        "  extracted_data = pd.DataFrame(columns=columns)\n",
        "  dt = []\n",
        "\n",
        "  #process all json files and append them to a list\n",
        "  for jsonfile in glob.glob(\"bank*.json\"):\n",
        "    json_data = extract_from_json(jsonfile)\n",
        "    dt.append(json_data)\n",
        "\n",
        "  extracted_data = pd.concat(dt, axis=0)\n",
        "  return extracted_data"
      ],
      "metadata": {
        "id": "j_8t4Xg5Wpdx"
      },
      "execution_count": 4,
      "outputs": []
    },
    {
      "cell_type": "markdown",
      "source": [
        "Retreiving the exchange rates from the file `exchange_rates.csv` as a dataframe and find the exchange rate for Great Britain Pounds with the symbol GBP, store it in the variable exchange_rate."
      ],
      "metadata": {
        "id": "4kUHYwAseN6p"
      }
    },
    {
      "cell_type": "code",
      "source": [
        "path = 'exchange_rates.csv'\n",
        "\n",
        "# we set the index to zero because we don't want the index from the .csv file; instead, we're going to use countries' acronyms as such.\n",
        "exchange_rate = pd.read_csv(path, index_col=0)"
      ],
      "metadata": {
        "id": "SVE4R82iWvHH"
      },
      "execution_count": 5,
      "outputs": []
    },
    {
      "cell_type": "code",
      "source": [
        "# taking a quick look how the exchange rates dataframe is formed\n",
        "exchange_rate.head(5)"
      ],
      "metadata": {
        "colab": {
          "base_uri": "https://localhost:8080/",
          "height": 206
        },
        "id": "x9pA7jdDW1V-",
        "outputId": "20040aef-45a7-4ff5-e8ec-627b703f781b"
      },
      "execution_count": 6,
      "outputs": [
        {
          "output_type": "execute_result",
          "data": {
            "text/plain": [
              "        Rates\n",
              "AUD  1.297088\n",
              "BGN  1.608653\n",
              "BRL  5.409196\n",
              "CAD  1.271426\n",
              "CHF  0.886083"
            ],
            "text/html": [
              "\n",
              "  <div id=\"df-28644478-8fd3-42c2-ab50-cb0ca3125217\" class=\"colab-df-container\">\n",
              "    <div>\n",
              "<style scoped>\n",
              "    .dataframe tbody tr th:only-of-type {\n",
              "        vertical-align: middle;\n",
              "    }\n",
              "\n",
              "    .dataframe tbody tr th {\n",
              "        vertical-align: top;\n",
              "    }\n",
              "\n",
              "    .dataframe thead th {\n",
              "        text-align: right;\n",
              "    }\n",
              "</style>\n",
              "<table border=\"1\" class=\"dataframe\">\n",
              "  <thead>\n",
              "    <tr style=\"text-align: right;\">\n",
              "      <th></th>\n",
              "      <th>Rates</th>\n",
              "    </tr>\n",
              "  </thead>\n",
              "  <tbody>\n",
              "    <tr>\n",
              "      <th>AUD</th>\n",
              "      <td>1.297088</td>\n",
              "    </tr>\n",
              "    <tr>\n",
              "      <th>BGN</th>\n",
              "      <td>1.608653</td>\n",
              "    </tr>\n",
              "    <tr>\n",
              "      <th>BRL</th>\n",
              "      <td>5.409196</td>\n",
              "    </tr>\n",
              "    <tr>\n",
              "      <th>CAD</th>\n",
              "      <td>1.271426</td>\n",
              "    </tr>\n",
              "    <tr>\n",
              "      <th>CHF</th>\n",
              "      <td>0.886083</td>\n",
              "    </tr>\n",
              "  </tbody>\n",
              "</table>\n",
              "</div>\n",
              "    <div class=\"colab-df-buttons\">\n",
              "\n",
              "  <div class=\"colab-df-container\">\n",
              "    <button class=\"colab-df-convert\" onclick=\"convertToInteractive('df-28644478-8fd3-42c2-ab50-cb0ca3125217')\"\n",
              "            title=\"Convert this dataframe to an interactive table.\"\n",
              "            style=\"display:none;\">\n",
              "\n",
              "  <svg xmlns=\"http://www.w3.org/2000/svg\" height=\"24px\" viewBox=\"0 -960 960 960\">\n",
              "    <path d=\"M120-120v-720h720v720H120Zm60-500h600v-160H180v160Zm220 220h160v-160H400v160Zm0 220h160v-160H400v160ZM180-400h160v-160H180v160Zm440 0h160v-160H620v160ZM180-180h160v-160H180v160Zm440 0h160v-160H620v160Z\"/>\n",
              "  </svg>\n",
              "    </button>\n",
              "\n",
              "  <style>\n",
              "    .colab-df-container {\n",
              "      display:flex;\n",
              "      gap: 12px;\n",
              "    }\n",
              "\n",
              "    .colab-df-convert {\n",
              "      background-color: #E8F0FE;\n",
              "      border: none;\n",
              "      border-radius: 50%;\n",
              "      cursor: pointer;\n",
              "      display: none;\n",
              "      fill: #1967D2;\n",
              "      height: 32px;\n",
              "      padding: 0 0 0 0;\n",
              "      width: 32px;\n",
              "    }\n",
              "\n",
              "    .colab-df-convert:hover {\n",
              "      background-color: #E2EBFA;\n",
              "      box-shadow: 0px 1px 2px rgba(60, 64, 67, 0.3), 0px 1px 3px 1px rgba(60, 64, 67, 0.15);\n",
              "      fill: #174EA6;\n",
              "    }\n",
              "\n",
              "    .colab-df-buttons div {\n",
              "      margin-bottom: 4px;\n",
              "    }\n",
              "\n",
              "    [theme=dark] .colab-df-convert {\n",
              "      background-color: #3B4455;\n",
              "      fill: #D2E3FC;\n",
              "    }\n",
              "\n",
              "    [theme=dark] .colab-df-convert:hover {\n",
              "      background-color: #434B5C;\n",
              "      box-shadow: 0px 1px 3px 1px rgba(0, 0, 0, 0.15);\n",
              "      filter: drop-shadow(0px 1px 2px rgba(0, 0, 0, 0.3));\n",
              "      fill: #FFFFFF;\n",
              "    }\n",
              "  </style>\n",
              "\n",
              "    <script>\n",
              "      const buttonEl =\n",
              "        document.querySelector('#df-28644478-8fd3-42c2-ab50-cb0ca3125217 button.colab-df-convert');\n",
              "      buttonEl.style.display =\n",
              "        google.colab.kernel.accessAllowed ? 'block' : 'none';\n",
              "\n",
              "      async function convertToInteractive(key) {\n",
              "        const element = document.querySelector('#df-28644478-8fd3-42c2-ab50-cb0ca3125217');\n",
              "        const dataTable =\n",
              "          await google.colab.kernel.invokeFunction('convertToInteractive',\n",
              "                                                    [key], {});\n",
              "        if (!dataTable) return;\n",
              "\n",
              "        const docLinkHtml = 'Like what you see? Visit the ' +\n",
              "          '<a target=\"_blank\" href=https://colab.research.google.com/notebooks/data_table.ipynb>data table notebook</a>'\n",
              "          + ' to learn more about interactive tables.';\n",
              "        element.innerHTML = '';\n",
              "        dataTable['output_type'] = 'display_data';\n",
              "        await google.colab.output.renderOutput(dataTable, element);\n",
              "        const docLink = document.createElement('div');\n",
              "        docLink.innerHTML = docLinkHtml;\n",
              "        element.appendChild(docLink);\n",
              "      }\n",
              "    </script>\n",
              "  </div>\n",
              "\n",
              "\n",
              "<div id=\"df-cb318572-30ba-41f8-83de-f68a6773431e\">\n",
              "  <button class=\"colab-df-quickchart\" onclick=\"quickchart('df-cb318572-30ba-41f8-83de-f68a6773431e')\"\n",
              "            title=\"Suggest charts.\"\n",
              "            style=\"display:none;\">\n",
              "\n",
              "<svg xmlns=\"http://www.w3.org/2000/svg\" height=\"24px\"viewBox=\"0 0 24 24\"\n",
              "     width=\"24px\">\n",
              "    <g>\n",
              "        <path d=\"M19 3H5c-1.1 0-2 .9-2 2v14c0 1.1.9 2 2 2h14c1.1 0 2-.9 2-2V5c0-1.1-.9-2-2-2zM9 17H7v-7h2v7zm4 0h-2V7h2v10zm4 0h-2v-4h2v4z\"/>\n",
              "    </g>\n",
              "</svg>\n",
              "  </button>\n",
              "\n",
              "<style>\n",
              "  .colab-df-quickchart {\n",
              "      --bg-color: #E8F0FE;\n",
              "      --fill-color: #1967D2;\n",
              "      --hover-bg-color: #E2EBFA;\n",
              "      --hover-fill-color: #174EA6;\n",
              "      --disabled-fill-color: #AAA;\n",
              "      --disabled-bg-color: #DDD;\n",
              "  }\n",
              "\n",
              "  [theme=dark] .colab-df-quickchart {\n",
              "      --bg-color: #3B4455;\n",
              "      --fill-color: #D2E3FC;\n",
              "      --hover-bg-color: #434B5C;\n",
              "      --hover-fill-color: #FFFFFF;\n",
              "      --disabled-bg-color: #3B4455;\n",
              "      --disabled-fill-color: #666;\n",
              "  }\n",
              "\n",
              "  .colab-df-quickchart {\n",
              "    background-color: var(--bg-color);\n",
              "    border: none;\n",
              "    border-radius: 50%;\n",
              "    cursor: pointer;\n",
              "    display: none;\n",
              "    fill: var(--fill-color);\n",
              "    height: 32px;\n",
              "    padding: 0;\n",
              "    width: 32px;\n",
              "  }\n",
              "\n",
              "  .colab-df-quickchart:hover {\n",
              "    background-color: var(--hover-bg-color);\n",
              "    box-shadow: 0 1px 2px rgba(60, 64, 67, 0.3), 0 1px 3px 1px rgba(60, 64, 67, 0.15);\n",
              "    fill: var(--button-hover-fill-color);\n",
              "  }\n",
              "\n",
              "  .colab-df-quickchart-complete:disabled,\n",
              "  .colab-df-quickchart-complete:disabled:hover {\n",
              "    background-color: var(--disabled-bg-color);\n",
              "    fill: var(--disabled-fill-color);\n",
              "    box-shadow: none;\n",
              "  }\n",
              "\n",
              "  .colab-df-spinner {\n",
              "    border: 2px solid var(--fill-color);\n",
              "    border-color: transparent;\n",
              "    border-bottom-color: var(--fill-color);\n",
              "    animation:\n",
              "      spin 1s steps(1) infinite;\n",
              "  }\n",
              "\n",
              "  @keyframes spin {\n",
              "    0% {\n",
              "      border-color: transparent;\n",
              "      border-bottom-color: var(--fill-color);\n",
              "      border-left-color: var(--fill-color);\n",
              "    }\n",
              "    20% {\n",
              "      border-color: transparent;\n",
              "      border-left-color: var(--fill-color);\n",
              "      border-top-color: var(--fill-color);\n",
              "    }\n",
              "    30% {\n",
              "      border-color: transparent;\n",
              "      border-left-color: var(--fill-color);\n",
              "      border-top-color: var(--fill-color);\n",
              "      border-right-color: var(--fill-color);\n",
              "    }\n",
              "    40% {\n",
              "      border-color: transparent;\n",
              "      border-right-color: var(--fill-color);\n",
              "      border-top-color: var(--fill-color);\n",
              "    }\n",
              "    60% {\n",
              "      border-color: transparent;\n",
              "      border-right-color: var(--fill-color);\n",
              "    }\n",
              "    80% {\n",
              "      border-color: transparent;\n",
              "      border-right-color: var(--fill-color);\n",
              "      border-bottom-color: var(--fill-color);\n",
              "    }\n",
              "    90% {\n",
              "      border-color: transparent;\n",
              "      border-bottom-color: var(--fill-color);\n",
              "    }\n",
              "  }\n",
              "</style>\n",
              "\n",
              "  <script>\n",
              "    async function quickchart(key) {\n",
              "      const quickchartButtonEl =\n",
              "        document.querySelector('#' + key + ' button');\n",
              "      quickchartButtonEl.disabled = true;  // To prevent multiple clicks.\n",
              "      quickchartButtonEl.classList.add('colab-df-spinner');\n",
              "      try {\n",
              "        const charts = await google.colab.kernel.invokeFunction(\n",
              "            'suggestCharts', [key], {});\n",
              "      } catch (error) {\n",
              "        console.error('Error during call to suggestCharts:', error);\n",
              "      }\n",
              "      quickchartButtonEl.classList.remove('colab-df-spinner');\n",
              "      quickchartButtonEl.classList.add('colab-df-quickchart-complete');\n",
              "    }\n",
              "    (() => {\n",
              "      let quickchartButtonEl =\n",
              "        document.querySelector('#df-cb318572-30ba-41f8-83de-f68a6773431e button');\n",
              "      quickchartButtonEl.style.display =\n",
              "        google.colab.kernel.accessAllowed ? 'block' : 'none';\n",
              "    })();\n",
              "  </script>\n",
              "</div>\n",
              "    </div>\n",
              "  </div>\n"
            ]
          },
          "metadata": {},
          "execution_count": 6
        }
      ]
    },
    {
      "cell_type": "code",
      "source": [
        "# retreiving the exchange rate for GBP to use (we set the index to zero [0] because otherwise we'll get a subset of the dataframe)\n",
        "exchange_rate_to_GBP = exchange_rate.loc['GBP'][0]\n",
        "print(f'The exchange rate from US Dollars to GBP (Great Britain Pounds) is: {exchange_rate_to_GBP:.3f}')"
      ],
      "metadata": {
        "colab": {
          "base_uri": "https://localhost:8080/"
        },
        "id": "V-Hw1OiYNqAf",
        "outputId": "e0e7daee-faed-4834-8800-c7c910d0567b"
      },
      "execution_count": 7,
      "outputs": [
        {
          "output_type": "stream",
          "name": "stdout",
          "text": [
            "The exchange rate from US Dollars to GBP (Great Britain Pounds) is: 0.732\n"
          ]
        }
      ]
    },
    {
      "cell_type": "markdown",
      "source": [
        "<a name=\"trpr\"></a>\n",
        "# Transformation Process"
      ],
      "metadata": {
        "id": "riRHY91FNNi5"
      }
    },
    {
      "cell_type": "markdown",
      "source": [
        "Defining a `transform function` that:\n",
        "1. Changes the `'Market Cap (US$\\$$ Billion)'` column from USD to GBP\n",
        "2. Rounds the `Market Cap` column to 3 decimal places\n",
        "3. Rename `Market Cap (USD Billion)` to `Market Cap (GBP Billion)`"
      ],
      "metadata": {
        "id": "MeYjtzl3gBU4"
      }
    },
    {
      "cell_type": "code",
      "source": [
        "def transform(data, exch_rate):\n",
        "  # transforming the data to our desired rate\n",
        "  data['Market Cap (US$ Billion)'] = round(data['Market Cap (US$ Billion)'].apply(lambda x: x * exch_rate), 3)\n",
        "\n",
        "  # renaming the column from US to GBP\n",
        "  data = data.rename(columns={'Market Cap (US$ Billion)': 'Market Cap (GBP Billion)'})\n",
        "  return data"
      ],
      "metadata": {
        "id": "ZkPAaBJcNuQs"
      },
      "execution_count": 8,
      "outputs": []
    },
    {
      "cell_type": "markdown",
      "source": [
        "<a name=\"ldpr\"></a>\n",
        "# Load Process"
      ],
      "metadata": {
        "id": "q9kwoKLxNU9b"
      }
    },
    {
      "cell_type": "markdown",
      "source": [
        " Defining a `load function` that takes a dataframe and load it to a .csv file named `bank_market_cap_gbp.csv` making sure to set index to False (so not to have double indexing in the .csv file)"
      ],
      "metadata": {
        "id": "p63_h-evj0Ve"
      }
    },
    {
      "cell_type": "code",
      "source": [
        "def load(data_in):\n",
        "\n",
        "  # where the tranformed data go to\n",
        "  path_to = 'bank_market_cap_gbp.csv'\n",
        "\n",
        "  # write the tranformed data to the destined file excluding the index\n",
        "  data_in.to_csv(path_to, index=False)"
      ],
      "metadata": {
        "id": "ADrQDpq1NvIj"
      },
      "execution_count": 9,
      "outputs": []
    },
    {
      "cell_type": "markdown",
      "source": [
        "<a name=\"ldpr\"></a>\n",
        "# Logging Process"
      ],
      "metadata": {
        "id": "FPhOGFgJONCu"
      }
    },
    {
      "cell_type": "markdown",
      "source": [
        "Creating a `log function` to log our ETL sequence."
      ],
      "metadata": {
        "id": "quM8s1SskZJj"
      }
    },
    {
      "cell_type": "code",
      "source": [
        "def log(msg):\n",
        "\n",
        "  # getting the current timestamp\n",
        "  now = datetime.now()\n",
        "\n",
        "  # the format we're going to use for our timestamp : Year-Monthname-Day-Hour-Minute-Second\n",
        "  timestamp_format = '%Y-%h-%d-%H:%M:%S'\n",
        "\n",
        "  # formating the current timestamp to our favor\n",
        "  timestamp = now.strftime(timestamp_format)\n",
        "\n",
        "  # append the timestamp of the running process to a log file\n",
        "  with open(\"logfile.txt\", \"a\") as f:\n",
        "      f.write(timestamp + ',' + msg + '\\n')"
      ],
      "metadata": {
        "id": "mSwPDiamODV_"
      },
      "execution_count": 10,
      "outputs": []
    },
    {
      "cell_type": "markdown",
      "source": [
        "<a name=\"etlpr\"></a>\n",
        "# ETL Process (Get the pieces together)"
      ],
      "metadata": {
        "id": "WqCLpYzXOdJZ"
      }
    },
    {
      "cell_type": "markdown",
      "source": [
        "Finally, we can define an overall ETL process putting all the previous processes together as a one single process."
      ],
      "metadata": {
        "id": "KksKKzLT1-lY"
      }
    },
    {
      "cell_type": "code",
      "source": [
        "def etl():\n",
        "  log(\"ETL Job Started\")\n",
        "\n",
        "  #>>>>>>>>>> Extract <<<<<<<<<<\n",
        "  log(\"Extract Phase Started\")\n",
        "  extracted_data = extract()\n",
        "  log('Extract Phase Ended')\n",
        "\n",
        "  #>>>>>>>>>> Transform <<<<<<<<<<\n",
        "  log('Transform Phase Started')\n",
        "  transformed_data = transform(extracted_data, exchange_rate_to_GBP)\n",
        "  log('Transform Phase Ended')\n",
        "\n",
        "  #>>>>>>>>>> Load <<<<<<<<<<\n",
        "  log('Load Phase Started')\n",
        "  load(transformed_data)\n",
        "  log('Load Phase Ended')\n",
        "\n",
        "  log(\"ETL Job Ended\")\n",
        "\n",
        "  print('ETL complete!')"
      ],
      "metadata": {
        "id": "n8NtNjezOp-Z"
      },
      "execution_count": 11,
      "outputs": []
    },
    {
      "cell_type": "markdown",
      "source": [
        "<a name=\"runetl\"></a>\n",
        "# Run the ETL Process"
      ],
      "metadata": {
        "id": "BhRZKRVtUsAc"
      }
    },
    {
      "cell_type": "code",
      "source": [
        "etl()"
      ],
      "metadata": {
        "colab": {
          "base_uri": "https://localhost:8080/"
        },
        "id": "t6AqfQ8bUzi6",
        "outputId": "72bc61bd-34bc-4b07-9ff5-c9ceaee9e82e"
      },
      "execution_count": 12,
      "outputs": [
        {
          "output_type": "stream",
          "name": "stdout",
          "text": [
            "ETL complete!\n"
          ]
        }
      ]
    }
  ]
}